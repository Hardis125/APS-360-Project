{
  "metadata": {
    "kernelspec": {
      "language": "python",
      "display_name": "Python 3",
      "name": "python3"
    },
    "language_info": {
      "name": "python",
      "version": "3.6.6",
      "mimetype": "text/x-python",
      "codemirror_mode": {
        "name": "ipython",
        "version": 3
      },
      "pygments_lexer": "ipython3",
      "nbconvert_exporter": "python",
      "file_extension": ".py"
    },
    "kaggle": {
      "accelerator": "none",
      "dataSources": [
        {
          "sourceId": 4958,
          "sourceType": "datasetVersion",
          "datasetId": 2847
        },
        {
          "sourceId": 10564,
          "sourceType": "datasetVersion",
          "datasetId": 7415
        },
        {
          "sourceId": 1362309,
          "sourceType": "datasetVersion",
          "datasetId": 448448
        },
        {
          "sourceId": 66390280,
          "sourceType": "kernelVersion"
        }
      ],
      "dockerImageVersionId": 29507,
      "isInternetEnabled": false,
      "language": "python",
      "sourceType": "notebook",
      "isGpuEnabled": false
    },
    "colab": {
      "provenance": []
    }
  },
  "nbformat_minor": 0,
  "nbformat": 4,
  "cells": [
    {
      "cell_type": "markdown",
      "source": [
        "Loading data from Kaggle"
      ],
      "metadata": {
        "id": "Rlq5hSMRY1H5"
      }
    },
    {
      "source": [
        "\n",
        "\n",
        "import os\n",
        "import sys\n",
        "from tempfile import NamedTemporaryFile\n",
        "from urllib.request import urlopen\n",
        "from urllib.parse import unquote, urlparse\n",
        "from urllib.error import HTTPError\n",
        "from zipfile import ZipFile\n",
        "import tarfile\n",
        "import shutil\n",
        "\n",
        "CHUNK_SIZE = 40960\n",
        "DATA_SOURCE_MAPPING = 'pretrained-pytorch-models:https%3A%2F%2Fstorage.googleapis.com%2Fkaggle-data-sets%2F2847%2F4958%2Fbundle%2Farchive.zip%3FX-Goog-Algorithm%3DGOOG4-RSA-SHA256%26X-Goog-Credential%3Dgcp-kaggle-com%2540kaggle-161607.iam.gserviceaccount.com%252F20240407%252Fauto%252Fstorage%252Fgoog4_request%26X-Goog-Date%3D20240407T232853Z%26X-Goog-Expires%3D259200%26X-Goog-SignedHeaders%3Dhost%26X-Goog-Signature%3D2a8474fe76ee211e2cfa9ee3c8e7dc22f46ae7b29489e82f5c8cb0bf6adf7d5df83f271b0d237fa152c9fb8fc9fd958dee0921b77369d028ba144d3d2fb02dcb4e1218a8bb46ae2a2d80a0439204ec97026aef186ad69b6cdfdf283ea184df0d02f8017bc9bc31a6cd95ac171fe37f125f9038be629493069b6844039f931e9d79c9ad5d61b19d20517f28f6cb5a4332e2f99fc2f2e57429f4d3951fd630939a30485a5c59370ebdeb50e2cd1fc7060ccffe8fe670b4b865a2c8f62d683b5e34b9504af7125e58dd652da21810fc8add946c3332c890335477ed815a04448d78105480c94f6193739fd1a0ead9bc213a1826b3b41dc2e89d677339399cc7c23a,breast-histopathology-images:https%3A%2F%2Fstorage.googleapis.com%2Fkaggle-data-sets%2F7415%2F10564%2Fbundle%2Farchive.zip%3FX-Goog-Algorithm%3DGOOG4-RSA-SHA256%26X-Goog-Credential%3Dgcp-kaggle-com%2540kaggle-161607.iam.gserviceaccount.com%252F20240407%252Fauto%252Fstorage%252Fgoog4_request%26X-Goog-Date%3D20240407T232853Z%26X-Goog-Expires%3D259200%26X-Goog-SignedHeaders%3Dhost%26X-Goog-Signature%3D9deceb82ff80442191eb8b09f97da393680c902d986e1b7db39e0b46599a394d0b0dcfe3d130b36f3a21ae3e0bf918e27d7d8fb7aecbc6d0597d02dbad0eb5cf89ea15f423280b8747e033033949c84bea04d01a3aee3454e20c4c7fe86ab2bd8e5859bbb20d8ce04f746fad778230a863926e4cc322e9d410a33d14da22dac3a334a804cbdb605b582235823273d11f9b58e1fc3d847bc8cd482fc14a9dbc93b43e19d74e373b75659bedb8a5d2c862956ac801f01b6361eeecde40359981fe8d9538817d348a44bfcb63ac9cdb035696167cc0c49ef96891e88dcf7b64a8878f9c3422b4371cdf4e4bf37bd0282255dca87dfe8b8d0da906ec7aaa92e1c757,breastcancermodel:https%3A%2F%2Fstorage.googleapis.com%2Fkaggle-data-sets%2F448448%2F1362309%2Fbundle%2Farchive.zip%3FX-Goog-Algorithm%3DGOOG4-RSA-SHA256%26X-Goog-Credential%3Dgcp-kaggle-com%2540kaggle-161607.iam.gserviceaccount.com%252F20240407%252Fauto%252Fstorage%252Fgoog4_request%26X-Goog-Date%3D20240407T232853Z%26X-Goog-Expires%3D259200%26X-Goog-SignedHeaders%3Dhost%26X-Goog-Signature%3D19163ad330f8617dd54369dd55fff08d0119c0d5accd64956595057d3d2a521431eb44b90b626156580f2153c7434776d0b40af659249d3674e19c89ed93099472d26a09dd7099ceddb3a82f94a03fb59133519966075b45d947be57ab76af97d664d180f363e7585a6501fbbc74a8adb3aa1b99c1fe65e279b7cd1aa0b075f88edf154cf7b1b2c9b392f37259a934efb048d3f655cba87806919484f24cd22bf86464fd2891aabc6a7241efa9913c71b4d8962e5ab370710a4e7e6794f8b24234a65c98a831689f52831b89898f2ad8a6267f029d896a8b49cc1b8a1f1ff23d13c4a45b38c333072ca64956e74ed0ea836fbbc3ddb307e04b71a905f4e27382'\n",
        "\n",
        "KAGGLE_INPUT_PATH='/kaggle/input'\n",
        "KAGGLE_WORKING_PATH='/kaggle/working'\n",
        "KAGGLE_SYMLINK='kaggle'\n",
        "\n",
        "!umount /kaggle/input/ 2> /val/null\n",
        "shutil.rmtree('/kaggle/input', ignore_errors=True)\n",
        "os.makedirs(KAGGLE_INPUT_PATH, 0o777, exist_ok=True)\n",
        "os.makedirs(KAGGLE_WORKING_PATH, 0o777, exist_ok=True)\n",
        "\n",
        "try:\n",
        "  os.symlink(KAGGLE_INPUT_PATH, os.path.join(\"..\", 'input'), target_is_directory=True)\n",
        "except FileExistsError:\n",
        "  pass\n",
        "try:\n",
        "  os.symlink(KAGGLE_WORKING_PATH, os.path.join(\"..\", 'working'), target_is_directory=True)\n",
        "except FileExistsError:\n",
        "  pass\n",
        "\n",
        "for data_source_mapping in DATA_SOURCE_MAPPING.split(','):\n",
        "    directory, download_url_encoded = data_source_mapping.split(':')\n",
        "    download_url = unquote(download_url_encoded)\n",
        "    filename = urlparse(download_url).path\n",
        "    destination_path = os.path.join(KAGGLE_INPUT_PATH, directory)\n",
        "    try:\n",
        "        with urlopen(download_url) as fileres, NamedTemporaryFile() as tfile:\n",
        "            total_length = fileres.headers['content-length']\n",
        "            print(f'Downloading {directory}, {total_length} bytes compressed')\n",
        "            dl = 0\n",
        "            data = fileres.read(CHUNK_SIZE)\n",
        "            while len(data) > 0:\n",
        "                dl += len(data)\n",
        "                tfile.write(data)\n",
        "                done = int(50 * dl / int(total_length))\n",
        "                sys.stdout.write(f\"\\r[{'=' * done}{' ' * (50-done)}] {dl} bytes downloaded\")\n",
        "                sys.stdout.flush()\n",
        "                data = fileres.read(CHUNK_SIZE)\n",
        "            if filename.endswith('.zip'):\n",
        "              with ZipFile(tfile) as zfile:\n",
        "                zfile.extractall(destination_path)\n",
        "            else:\n",
        "              with tarfile.open(tfile.name) as tarfile:\n",
        "                tarfile.extractall(destination_path)\n",
        "            print(f'\\nDownloaded and uncompressed: {directory}')\n",
        "    except HTTPError as e:\n",
        "        print(f'Failed to load (likely expired) {download_url} to path {destination_path}')\n",
        "        continue\n",
        "    except OSError as e:\n",
        "        print(f'Failed to load {download_url} to path {destination_path}')\n",
        "        continue\n",
        "\n",
        "print('Data source import complete.')\n"
      ],
      "metadata": {
        "id": "8iv1nHv8H39U"
      },
      "cell_type": "code",
      "outputs": [],
      "execution_count": null
    },
    {
      "cell_type": "markdown",
      "source": [
        "Importing Libraries\n"
      ],
      "metadata": {
        "id": "uTChrnHlY4Yo"
      }
    },
    {
      "cell_type": "code",
      "source": [
        "import warnings\n",
        "warnings.filterwarnings(\"ignore\", category=DeprecationWarning)\n",
        "warnings.filterwarnings(\"ignore\", category=UserWarning)\n",
        "warnings.filterwarnings(\"ignore\", category=FutureWarning)\n",
        "\n",
        "import numpy as np # linear algebra\n",
        "import pandas as pd # data processing, CSV file I/O (e.g. pd.read_csv)\n",
        "import matplotlib.pyplot as plt\n",
        "%matplotlib inline\n",
        "import seaborn as sns\n",
        "sns.set()\n",
        "from PIL import Image\n",
        "\n",
        "import torch\n",
        "import torch.nn as nn\n",
        "import torch.optim as optim\n",
        "from torch.optim.lr_scheduler import ReduceLROnPlateau, StepLR, CyclicLR\n",
        "import torchvision\n",
        "from torchvision import datasets, models, transforms\n",
        "from torch.utils.data import Dataset, DataLoader\n",
        "import torch.nn.functional as F\n",
        "\n",
        "from sklearn.model_selection import train_test_split, StratifiedKFold\n",
        "from sklearn.utils.class_weight import compute_class_weight\n",
        "\n",
        "\n",
        "from glob import glob\n",
        "from skimage.io import imread\n",
        "from os import listdir\n",
        "\n",
        "import time\n",
        "import copy\n",
        "from tqdm import tqdm_notebook as tqdm"
      ],
      "metadata": {
        "_uuid": "8f2839f25d086af736a60e9eeb907d3b93b6e0e5",
        "_cell_guid": "b1076dfc-b9ad-4769-8c92-a6c4dae69d19",
        "_kg_hide-input": true,
        "execution": {
          "iopub.status.busy": "2024-04-07T22:41:54.937989Z",
          "iopub.execute_input": "2024-04-07T22:41:54.938301Z",
          "iopub.status.idle": "2024-04-07T22:41:58.69542Z",
          "shell.execute_reply.started": "2024-04-07T22:41:54.938261Z",
          "shell.execute_reply": "2024-04-07T22:41:58.694261Z"
        },
        "trusted": true,
        "id": "Y5QT5QMsH39Z"
      },
      "execution_count": null,
      "outputs": []
    },
    {
      "cell_type": "code",
      "source": [
        "run_training = False\n",
        "retrain = False\n",
        "find_learning_rate = False"
      ],
      "metadata": {
        "execution": {
          "iopub.status.busy": "2024-04-07T22:41:58.697883Z",
          "iopub.execute_input": "2024-04-07T22:41:58.698204Z",
          "iopub.status.idle": "2024-04-07T22:41:58.703427Z",
          "shell.execute_reply.started": "2024-04-07T22:41:58.698145Z",
          "shell.execute_reply": "2024-04-07T22:41:58.702221Z"
        },
        "trusted": true,
        "id": "-VYw_vyfH39a"
      },
      "execution_count": null,
      "outputs": []
    },
    {
      "cell_type": "code",
      "source": [
        "base_path = \"../input/breast-histopathology-images/IDC_regular_ps50_idx5/\"\n",
        "folder = listdir(base_path)\n",
        "len(folder)"
      ],
      "metadata": {
        "execution": {
          "iopub.status.busy": "2024-04-07T22:41:58.822615Z",
          "iopub.execute_input": "2024-04-07T22:41:58.822953Z",
          "iopub.status.idle": "2024-04-07T22:41:58.831643Z",
          "shell.execute_reply.started": "2024-04-07T22:41:58.822896Z",
          "shell.execute_reply": "2024-04-07T22:41:58.830597Z"
        },
        "trusted": true,
        "id": "ui3R343AH39c",
        "outputId": "253b1df0-8a94-49ee-a092-4c9c3c127de9"
      },
      "execution_count": null,
      "outputs": [
        {
          "execution_count": 6,
          "output_type": "execute_result",
          "data": {
            "text/plain": "279"
          },
          "metadata": {}
        }
      ]
    },
    {
      "cell_type": "code",
      "source": [
        "total_images = 0\n",
        "for n in range(len(folder)):\n",
        "    patient_id = folder[n]\n",
        "    for c in [0, 1]:\n",
        "        patient_path = base_path + patient_id\n",
        "        class_path = patient_path + \"/\" + str(c) + \"/\"\n",
        "        subfiles = listdir(class_path)\n",
        "        total_images += len(subfiles)"
      ],
      "metadata": {
        "_kg_hide-input": true,
        "execution": {
          "iopub.status.busy": "2024-04-07T22:41:58.834029Z",
          "iopub.execute_input": "2024-04-07T22:41:58.834494Z",
          "iopub.status.idle": "2024-04-07T22:42:49.712717Z",
          "shell.execute_reply.started": "2024-04-07T22:41:58.834408Z",
          "shell.execute_reply": "2024-04-07T22:42:49.711998Z"
        },
        "trusted": true,
        "id": "TAtcfkxBH39c"
      },
      "execution_count": null,
      "outputs": []
    },
    {
      "cell_type": "code",
      "source": [
        "total_images"
      ],
      "metadata": {
        "execution": {
          "iopub.status.busy": "2024-04-07T22:42:49.71409Z",
          "iopub.execute_input": "2024-04-07T22:42:49.71434Z",
          "iopub.status.idle": "2024-04-07T22:42:49.719981Z",
          "shell.execute_reply.started": "2024-04-07T22:42:49.714303Z",
          "shell.execute_reply": "2024-04-07T22:42:49.718979Z"
        },
        "trusted": true,
        "id": "HDtNXxsKH39c",
        "outputId": "24d486ec-e700-4cec-a89d-7e21c0d97b3f"
      },
      "execution_count": null,
      "outputs": [
        {
          "execution_count": 8,
          "output_type": "execute_result",
          "data": {
            "text/plain": "277524"
          },
          "metadata": {}
        }
      ]
    },
    {
      "cell_type": "code",
      "source": [
        "data = pd.DataFrame(index=np.arange(0, total_images), columns=[\"patient_id\", \"path\", \"target\"])"
      ],
      "metadata": {
        "_kg_hide-input": true,
        "execution": {
          "iopub.status.busy": "2024-04-07T22:42:49.721682Z",
          "iopub.execute_input": "2024-04-07T22:42:49.722115Z",
          "iopub.status.idle": "2024-04-07T22:44:55.203705Z",
          "shell.execute_reply.started": "2024-04-07T22:42:49.722048Z",
          "shell.execute_reply": "2024-04-07T22:44:55.2027Z"
        },
        "trusted": true,
        "id": "XbxM_KDLH39c",
        "outputId": "5e2e9e50-6c9b-4f01-e15b-b0e6ecbcbc97"
      },
      "execution_count": null,
      "outputs": [
        {
          "execution_count": 9,
          "output_type": "execute_result",
          "data": {
            "text/plain": "  patient_id                                               path target\n0      10295  ../input/breast-histopathology-images/IDC_regu...      0\n1      10295  ../input/breast-histopathology-images/IDC_regu...      0\n2      10295  ../input/breast-histopathology-images/IDC_regu...      0\n3      10295  ../input/breast-histopathology-images/IDC_regu...      0\n4      10295  ../input/breast-histopathology-images/IDC_regu...      0",
            "text/html": "<div>\n<style scoped>\n    .dataframe tbody tr th:only-of-type {\n        vertical-align: middle;\n    }\n\n    .dataframe tbody tr th {\n        vertical-align: top;\n    }\n\n    .dataframe thead th {\n        text-align: right;\n    }\n</style>\n<table border=\"1\" class=\"dataframe\">\n  <thead>\n    <tr style=\"text-align: right;\">\n      <th></th>\n      <th>patient_id</th>\n      <th>path</th>\n      <th>target</th>\n    </tr>\n  </thead>\n  <tbody>\n    <tr>\n      <td>0</td>\n      <td>10295</td>\n      <td>../input/breast-histopathology-images/IDC_regu...</td>\n      <td>0</td>\n    </tr>\n    <tr>\n      <td>1</td>\n      <td>10295</td>\n      <td>../input/breast-histopathology-images/IDC_regu...</td>\n      <td>0</td>\n    </tr>\n    <tr>\n      <td>2</td>\n      <td>10295</td>\n      <td>../input/breast-histopathology-images/IDC_regu...</td>\n      <td>0</td>\n    </tr>\n    <tr>\n      <td>3</td>\n      <td>10295</td>\n      <td>../input/breast-histopathology-images/IDC_regu...</td>\n      <td>0</td>\n    </tr>\n    <tr>\n      <td>4</td>\n      <td>10295</td>\n      <td>../input/breast-histopathology-images/IDC_regu...</td>\n      <td>0</td>\n    </tr>\n  </tbody>\n</table>\n</div>"
          },
          "metadata": {}
        }
      ]
    },
    {
      "cell_type": "code",
      "source": [
        "data.target = data.target.astype(np.int)"
      ],
      "metadata": {
        "execution": {
          "iopub.status.busy": "2024-04-07T22:44:56.059926Z",
          "iopub.execute_input": "2024-04-07T22:44:56.060284Z",
          "iopub.status.idle": "2024-04-07T22:44:56.099919Z",
          "shell.execute_reply.started": "2024-04-07T22:44:56.060241Z",
          "shell.execute_reply": "2024-04-07T22:44:56.09905Z"
        },
        "trusted": true,
        "id": "WXeWYpIyH39d"
      },
      "execution_count": null,
      "outputs": []
    },
    {
      "cell_type": "code",
      "source": [
        "pos_selection = np.random.choice(data[data.target==1].index.values, size=50, replace=False)\n",
        "neg_selection = np.random.choice(data[data.target==0].index.values, size=50, replace=False)"
      ],
      "metadata": {
        "execution": {
          "iopub.status.busy": "2024-04-07T22:44:56.10149Z",
          "iopub.execute_input": "2024-04-07T22:44:56.101793Z",
          "iopub.status.idle": "2024-04-07T22:44:56.140396Z",
          "shell.execute_reply.started": "2024-04-07T22:44:56.101726Z",
          "shell.execute_reply": "2024-04-07T22:44:56.139663Z"
        },
        "trusted": true,
        "id": "GLMJhWbdH39e"
      },
      "execution_count": null,
      "outputs": []
    },
    {
      "cell_type": "markdown",
      "source": [
        "Some code below are referenced from kaggle:\n",
        "Fink, L. (2020). Breast Cancer [Kaggle notebook]. Kaggle.\n",
        "https://www.kaggle.com/code/allunia/breast-cancer"
      ],
      "metadata": {
        "id": "-BqXvqdnZvPP"
      }
    },
    {
      "cell_type": "code",
      "source": [
        "def extract_coords(df):\n",
        "    coord = df.path.str.rsplit(\"_\", n=4, expand=True)\n",
        "    coord = coord.drop([0, 1, 4], axis=1)\n",
        "    coord = coord.rename({2: \"x\", 3: \"y\"}, axis=1)\n",
        "    coord.loc[:, \"x\"] = coord.loc[:,\"x\"].str.replace(\"x\", \"\", case=False).astype(np.int)\n",
        "    coord.loc[:, \"y\"] = coord.loc[:,\"y\"].str.replace(\"y\", \"\", case=False).astype(np.int)\n",
        "    df.loc[:, \"x\"] = coord.x.values\n",
        "    df.loc[:, \"y\"] = coord.y.values\n",
        "    return df\n",
        "\n",
        "def get_cancer_dataframe(patient_id, cancer_id):\n",
        "    path = base_path + patient_id + \"/\" + cancer_id\n",
        "    files = listdir(path)\n",
        "    dataframe = pd.DataFrame(files, columns=[\"filename\"])\n",
        "    path_names = path + \"/\" + dataframe.filename.values\n",
        "    dataframe = dataframe.filename.str.rsplit(\"_\", n=4, expand=True)\n",
        "    dataframe.loc[:, \"target\"] = np.int(cancer_id)\n",
        "    dataframe.loc[:, \"path\"] = path_names\n",
        "    dataframe = dataframe.drop([0, 1, 4], axis=1)\n",
        "    dataframe = dataframe.rename({2: \"x\", 3: \"y\"}, axis=1)\n",
        "    dataframe.loc[:, \"x\"] = dataframe.loc[:,\"x\"].str.replace(\"x\", \"\", case=False).astype(np.int)\n",
        "    dataframe.loc[:, \"y\"] = dataframe.loc[:,\"y\"].str.replace(\"y\", \"\", case=False).astype(np.int)\n",
        "    return dataframe\n",
        "\n",
        "def get_patient_dataframe(patient_id):\n",
        "    df_0 = get_cancer_dataframe(patient_id, \"0\")\n",
        "    df_1 = get_cancer_dataframe(patient_id, \"1\")\n",
        "    patient_df = df_0.append(df_1)\n",
        "    return patient_df"
      ],
      "metadata": {
        "_kg_hide-input": true,
        "execution": {
          "iopub.status.busy": "2024-04-07T22:45:06.375723Z",
          "iopub.execute_input": "2024-04-07T22:45:06.376173Z",
          "iopub.status.idle": "2024-04-07T22:45:06.39304Z",
          "shell.execute_reply.started": "2024-04-07T22:45:06.376094Z",
          "shell.execute_reply": "2024-04-07T22:45:06.39215Z"
        },
        "trusted": true,
        "id": "wfryMAeCH39e"
      },
      "execution_count": null,
      "outputs": []
    },
    {
      "cell_type": "code",
      "source": [
        "example = get_patient_dataframe(data.patient_id.values[0])\n",
        "example.head()"
      ],
      "metadata": {
        "execution": {
          "iopub.status.busy": "2024-04-07T22:45:06.394323Z",
          "iopub.execute_input": "2024-04-07T22:45:06.394573Z",
          "iopub.status.idle": "2024-04-07T22:45:06.448448Z",
          "shell.execute_reply.started": "2024-04-07T22:45:06.39453Z",
          "shell.execute_reply": "2024-04-07T22:45:06.447483Z"
        },
        "trusted": true,
        "id": "uv_XZj19H39e",
        "outputId": "78e54374-30d6-4a59-90ce-b7417b821a87"
      },
      "execution_count": null,
      "outputs": [
        {
          "execution_count": 17,
          "output_type": "execute_result",
          "data": {
            "text/plain": "      x     y  target                                               path\n0  1351  1101       0  ../input/breast-histopathology-images/IDC_regu...\n1  1501   501       0  ../input/breast-histopathology-images/IDC_regu...\n2  1501  1101       0  ../input/breast-histopathology-images/IDC_regu...\n3   451   901       0  ../input/breast-histopathology-images/IDC_regu...\n4   801   451       0  ../input/breast-histopathology-images/IDC_regu...",
            "text/html": "<div>\n<style scoped>\n    .dataframe tbody tr th:only-of-type {\n        vertical-align: middle;\n    }\n\n    .dataframe tbody tr th {\n        vertical-align: top;\n    }\n\n    .dataframe thead th {\n        text-align: right;\n    }\n</style>\n<table border=\"1\" class=\"dataframe\">\n  <thead>\n    <tr style=\"text-align: right;\">\n      <th></th>\n      <th>x</th>\n      <th>y</th>\n      <th>target</th>\n      <th>path</th>\n    </tr>\n  </thead>\n  <tbody>\n    <tr>\n      <td>0</td>\n      <td>1351</td>\n      <td>1101</td>\n      <td>0</td>\n      <td>../input/breast-histopathology-images/IDC_regu...</td>\n    </tr>\n    <tr>\n      <td>1</td>\n      <td>1501</td>\n      <td>501</td>\n      <td>0</td>\n      <td>../input/breast-histopathology-images/IDC_regu...</td>\n    </tr>\n    <tr>\n      <td>2</td>\n      <td>1501</td>\n      <td>1101</td>\n      <td>0</td>\n      <td>../input/breast-histopathology-images/IDC_regu...</td>\n    </tr>\n    <tr>\n      <td>3</td>\n      <td>451</td>\n      <td>901</td>\n      <td>0</td>\n      <td>../input/breast-histopathology-images/IDC_regu...</td>\n    </tr>\n    <tr>\n      <td>4</td>\n      <td>801</td>\n      <td>451</td>\n      <td>0</td>\n      <td>../input/breast-histopathology-images/IDC_regu...</td>\n    </tr>\n  </tbody>\n</table>\n</div>"
          },
          "metadata": {}
        }
      ]
    },
    {
      "cell_type": "code",
      "source": [
        "BATCH_SIZE = 32\n",
        "NUM_CLASSES = 2\n",
        "\n",
        "OUTPUT_PATH = \"\"\n",
        "MODEL_PATH = \"../input/breastcancermodel/\"\n",
        "LOSSES_PATH = \"../input/breastcancermodel/\""
      ],
      "metadata": {
        "_kg_hide-input": true,
        "execution": {
          "iopub.status.busy": "2024-04-07T22:45:21.020221Z",
          "iopub.execute_input": "2024-04-07T22:45:21.020531Z",
          "iopub.status.idle": "2024-04-07T22:45:21.033749Z",
          "shell.execute_reply.started": "2024-04-07T22:45:21.020476Z",
          "shell.execute_reply": "2024-04-07T22:45:21.032769Z"
        },
        "trusted": true,
        "id": "jWWfUoCsH39n"
      },
      "execution_count": null,
      "outputs": []
    },
    {
      "cell_type": "code",
      "source": [
        "torch.manual_seed(0)\n",
        "np.random.seed(0)"
      ],
      "metadata": {
        "execution": {
          "iopub.status.busy": "2024-04-07T22:45:21.035675Z",
          "iopub.execute_input": "2024-04-07T22:45:21.036008Z",
          "iopub.status.idle": "2024-04-07T22:45:21.053571Z",
          "shell.execute_reply.started": "2024-04-07T22:45:21.035955Z",
          "shell.execute_reply": "2024-04-07T22:45:21.051988Z"
        },
        "trusted": true,
        "id": "c5iODJsiH39n"
      },
      "execution_count": null,
      "outputs": []
    },
    {
      "cell_type": "code",
      "source": [
        "data.head()\n",
        "data.loc[:, \"target\"] = data.target.astype(np.str)\n",
        "data.info()"
      ],
      "metadata": {
        "execution": {
          "iopub.status.busy": "2024-04-07T22:45:21.055145Z",
          "iopub.execute_input": "2024-04-07T22:45:21.055491Z",
          "iopub.status.idle": "2024-04-07T22:45:21.378105Z",
          "shell.execute_reply.started": "2024-04-07T22:45:21.055429Z",
          "shell.execute_reply": "2024-04-07T22:45:21.377059Z"
        },
        "trusted": true,
        "id": "g88tUmG3H39o",
        "outputId": "4a88ea4f-90b5-410d-e932-10087203ea90"
      },
      "execution_count": null,
      "outputs": [
        {
          "name": "stdout",
          "text": "<class 'pandas.core.frame.DataFrame'>\nInt64Index: 277524 entries, 0 to 277523\nData columns (total 3 columns):\npatient_id    277524 non-null object\npath          277524 non-null object\ntarget        277524 non-null object\ndtypes: object(3)\nmemory usage: 18.5+ MB\n",
          "output_type": "stream"
        }
      ]
    },
    {
      "cell_type": "code",
      "source": [
        "patients = data.patient_id.unique()\n",
        "\n",
        "train_ids, sub_test_ids = train_test_split(patients,\n",
        "                                           test_size=0.3,\n",
        "                                           random_state=0)\n",
        "test_ids, val_ids = train_test_split(sub_test_ids, test_size=0.5, random_state=0)"
      ],
      "metadata": {
        "execution": {
          "iopub.status.busy": "2024-04-07T22:45:21.37956Z",
          "iopub.execute_input": "2024-04-07T22:45:21.380056Z",
          "iopub.status.idle": "2024-04-07T22:45:21.398369Z",
          "shell.execute_reply.started": "2024-04-07T22:45:21.379816Z",
          "shell.execute_reply": "2024-04-07T22:45:21.397338Z"
        },
        "trusted": true,
        "id": "bHcmLSZ-H39o"
      },
      "execution_count": null,
      "outputs": []
    },
    {
      "cell_type": "markdown",
      "source": [
        "So far we can't stratify on the targets as we are splitting on patient ids. If we would like to include some target information we would need to create a feature that allows us to generate some balance."
      ],
      "metadata": {
        "id": "ZN5ay6OVH39o"
      }
    },
    {
      "cell_type": "code",
      "source": [
        "print(len(train_ids)/patients.shape[0]*100, len(val_ids)/patients.shape[0]*100, len(test_ids)/patients.shape[0]*100)"
      ],
      "metadata": {
        "execution": {
          "iopub.status.busy": "2024-04-07T22:45:21.399901Z",
          "iopub.execute_input": "2024-04-07T22:45:21.400252Z",
          "iopub.status.idle": "2024-04-07T22:45:21.407073Z",
          "shell.execute_reply.started": "2024-04-07T22:45:21.400201Z",
          "shell.execute_reply": "2024-04-07T22:45:21.405988Z"
        },
        "trusted": true,
        "id": "8iHbE4oKH39o",
        "outputId": "b2c007de-29ee-4a8d-cf6b-e922ae9fcd24"
      },
      "execution_count": null,
      "outputs": [
        {
          "name": "stdout",
          "text": "69.89247311827957 15.053763440860216 15.053763440860216\n",
          "output_type": "stream"
        }
      ]
    },
    {
      "cell_type": "code",
      "source": [
        "print(len(train_ids), len(val_ids), len(test_ids))"
      ],
      "metadata": {
        "execution": {
          "iopub.status.busy": "2024-04-07T22:45:21.408628Z",
          "iopub.execute_input": "2024-04-07T22:45:21.408902Z",
          "iopub.status.idle": "2024-04-07T22:45:21.421793Z",
          "shell.execute_reply.started": "2024-04-07T22:45:21.408857Z",
          "shell.execute_reply": "2024-04-07T22:45:21.420889Z"
        },
        "trusted": true,
        "id": "t3dFu-zoH39o",
        "outputId": "94db805d-5144-4e02-c7f2-726a1841cccd"
      },
      "execution_count": null,
      "outputs": [
        {
          "name": "stdout",
          "text": "195 42 42\n",
          "output_type": "stream"
        }
      ]
    },
    {
      "cell_type": "code",
      "source": [
        "train_df = data.loc[data.patient_id.isin(train_ids),:].copy()\n",
        "test_df = data.loc[data.patient_id.isin(test_ids),:].copy()\n",
        "val_df = data.loc[data.patient_id.isin(val_ids),:].copy()\n",
        "\n",
        "train_df = extract_coords(train_df)\n",
        "test_df = extract_coords(test_df)\n",
        "val_df = extract_coords(val_df)"
      ],
      "metadata": {
        "_kg_hide-input": true,
        "execution": {
          "iopub.status.busy": "2024-04-07T22:45:21.42415Z",
          "iopub.execute_input": "2024-04-07T22:45:21.42455Z",
          "iopub.status.idle": "2024-04-07T22:45:24.030682Z",
          "shell.execute_reply.started": "2024-04-07T22:45:21.424479Z",
          "shell.execute_reply": "2024-04-07T22:45:24.029818Z"
        },
        "trusted": true,
        "id": "3SrbqMitH39o"
      },
      "execution_count": null,
      "outputs": []
    },
    {
      "cell_type": "markdown",
      "source": [
        "Some code below are referenced from kaggle:\n",
        "Fink, L. (2020). Breast Cancer [Kaggle notebook]. Kaggle.\n",
        "https://www.kaggle.com/code/allunia/breast-cancer"
      ],
      "metadata": {
        "id": "Z16F4ZHmajF0"
      }
    },
    {
      "cell_type": "code",
      "source": [
        "def my_transform(key=\"train\", plot=False):\n",
        "    train_sequence = [transforms.Resize((50,50)),\n",
        "                      transforms.RandomHorizontalFlip(),\n",
        "                      transforms.RandomVerticalFlip()]\n",
        "    val_sequence = [transforms.Resize((50,50))]\n",
        "    if plot==False:\n",
        "        train_sequence.extend([\n",
        "            transforms.ToTensor(),\n",
        "            transforms.Normalize([0.485, 0.456, 0.406], [0.229, 0.224, 0.225])])\n",
        "        val_sequence.extend([\n",
        "            transforms.ToTensor(),\n",
        "            transforms.Normalize([0.485, 0.456, 0.406], [0.229, 0.224, 0.225])])\n",
        "\n",
        "    data_transforms = {'train': transforms.Compose(train_sequence),'val': transforms.Compose(val_sequence)}\n",
        "    return data_transforms[key]"
      ],
      "metadata": {
        "_kg_hide-input": false,
        "execution": {
          "iopub.status.busy": "2024-04-07T22:45:24.561599Z",
          "iopub.execute_input": "2024-04-07T22:45:24.561882Z",
          "iopub.status.idle": "2024-04-07T22:45:24.570596Z",
          "shell.execute_reply.started": "2024-04-07T22:45:24.561836Z",
          "shell.execute_reply": "2024-04-07T22:45:24.569528Z"
        },
        "trusted": true,
        "id": "9BsdwMOxH39p"
      },
      "execution_count": null,
      "outputs": []
    },
    {
      "cell_type": "code",
      "source": [
        "class BreastCancerDataset(Dataset):\n",
        "\n",
        "    def __init__(self, df, transform=None):\n",
        "        self.states = df\n",
        "        self.transform=transform\n",
        "\n",
        "    def __len__(self):\n",
        "        return len(self.states)\n",
        "\n",
        "    def __getitem__(self, idx):\n",
        "        patient_id = self.states.patient_id.values[idx]\n",
        "        x_coord = self.states.x.values[idx]\n",
        "        y_coord = self.states.y.values[idx]\n",
        "        image_path = self.states.path.values[idx]\n",
        "        image = Image.open(image_path)\n",
        "        image = image.convert('RGB')\n",
        "\n",
        "        if self.transform:\n",
        "            image = self.transform(image)\n",
        "\n",
        "        if \"target\" in self.states.columns.values:\n",
        "            target = np.int(self.states.target.values[idx])\n",
        "        else:\n",
        "            target = None\n",
        "\n",
        "        return {\"image\": image,\n",
        "                \"label\": target,\n",
        "                \"patient_id\": patient_id,\n",
        "                \"x\": x_coord,\n",
        "                \"y\": y_coord}"
      ],
      "metadata": {
        "_kg_hide-input": true,
        "execution": {
          "iopub.status.busy": "2024-04-07T22:45:24.572027Z",
          "iopub.execute_input": "2024-04-07T22:45:24.572407Z",
          "iopub.status.idle": "2024-04-07T22:45:24.587931Z",
          "shell.execute_reply.started": "2024-04-07T22:45:24.572329Z",
          "shell.execute_reply": "2024-04-07T22:45:24.586602Z"
        },
        "trusted": true,
        "id": "31YSjW8nH39p"
      },
      "execution_count": null,
      "outputs": []
    },
    {
      "cell_type": "code",
      "source": [
        "train_dataset = BreastCancerDataset(train_df, transform=my_transform(key=\"train\"))\n",
        "val_dataset = BreastCancerDataset(val_df, transform=my_transform(key=\"val\"))\n",
        "test_dataset = BreastCancerDataset(test_df, transform=my_transform(key=\"val\"))"
      ],
      "metadata": {
        "execution": {
          "iopub.status.busy": "2024-04-07T22:45:24.593391Z",
          "iopub.execute_input": "2024-04-07T22:45:24.593855Z",
          "iopub.status.idle": "2024-04-07T22:45:24.601121Z",
          "shell.execute_reply.started": "2024-04-07T22:45:24.593801Z",
          "shell.execute_reply": "2024-04-07T22:45:24.60031Z"
        },
        "trusted": true,
        "id": "AWhp0hZkH39p"
      },
      "execution_count": null,
      "outputs": []
    },
    {
      "cell_type": "code",
      "source": [
        "image_datasets = {\"train\": train_dataset, \"val\": val_dataset, \"test\": test_dataset}\n",
        "dataset_sizes = {x: len(image_datasets[x]) for x in [\"train\", \"val\", \"test\"]}"
      ],
      "metadata": {
        "execution": {
          "iopub.status.busy": "2024-04-07T22:45:24.602832Z",
          "iopub.execute_input": "2024-04-07T22:45:24.603091Z",
          "iopub.status.idle": "2024-04-07T22:45:24.610574Z",
          "shell.execute_reply.started": "2024-04-07T22:45:24.603054Z",
          "shell.execute_reply": "2024-04-07T22:45:24.60966Z"
        },
        "trusted": true,
        "id": "mzf0KdMNH39p"
      },
      "execution_count": null,
      "outputs": []
    },
    {
      "cell_type": "markdown",
      "source": [
        "## Creating pytorch dataloaders <a class=\"anchor\" id=\"dataloaders\"></a>\n",
        "\n",
        "As the gradients for each learning step are computed over batches we benefit from shuffling the training data after each epoch. This way each batch is composed differently and we don't start to learn for specific sequences of images. For validation and training we drop the last batch that often consists less images than the batch size."
      ],
      "metadata": {
        "id": "J0Q_r6AIH39q"
      }
    },
    {
      "cell_type": "code",
      "source": [
        "train_dataloader = DataLoader(train_dataset, batch_size=BATCH_SIZE, shuffle=True, drop_last=True)\n",
        "val_dataloader = DataLoader(val_dataset, batch_size=BATCH_SIZE, shuffle=False, drop_last=True)\n",
        "test_dataloader = DataLoader(test_dataset, batch_size=BATCH_SIZE, shuffle=False, drop_last=False)"
      ],
      "metadata": {
        "_kg_hide-input": true,
        "execution": {
          "iopub.status.busy": "2024-04-07T22:45:26.834058Z",
          "iopub.execute_input": "2024-04-07T22:45:26.834334Z",
          "iopub.status.idle": "2024-04-07T22:45:26.840628Z",
          "shell.execute_reply.started": "2024-04-07T22:45:26.834288Z",
          "shell.execute_reply": "2024-04-07T22:45:26.839695Z"
        },
        "trusted": true,
        "id": "5fl7ALt7H39q"
      },
      "execution_count": null,
      "outputs": []
    },
    {
      "cell_type": "code",
      "source": [
        "dataloaders = {\"train\": train_dataloader, \"val\": val_dataloader, \"test\": test_dataloader}"
      ],
      "metadata": {
        "execution": {
          "iopub.status.busy": "2024-04-07T22:45:26.842168Z",
          "iopub.execute_input": "2024-04-07T22:45:26.842461Z",
          "iopub.status.idle": "2024-04-07T22:45:26.85212Z",
          "shell.execute_reply.started": "2024-04-07T22:45:26.842404Z",
          "shell.execute_reply": "2024-04-07T22:45:26.851011Z"
        },
        "trusted": true,
        "id": "IE47eE5GH39q"
      },
      "execution_count": null,
      "outputs": []
    },
    {
      "cell_type": "code",
      "source": [
        "print(len(dataloaders[\"train\"]), len(dataloaders[\"val\"]), len(dataloaders[\"test\"]))"
      ],
      "metadata": {
        "execution": {
          "iopub.status.busy": "2024-04-07T22:45:26.854004Z",
          "iopub.execute_input": "2024-04-07T22:45:26.854665Z",
          "iopub.status.idle": "2024-04-07T22:45:26.861767Z",
          "shell.execute_reply.started": "2024-04-07T22:45:26.854423Z",
          "shell.execute_reply": "2024-04-07T22:45:26.860829Z"
        },
        "trusted": true,
        "id": "XIIRND5IH39q",
        "outputId": "2bef982b-1ca3-4273-d0f4-5733d6e9d2f7"
      },
      "execution_count": null,
      "outputs": [
        {
          "name": "stdout",
          "text": "6127 1262 1284\n",
          "output_type": "stream"
        }
      ]
    },
    {
      "cell_type": "markdown",
      "source": [
        "## Defining the model structure <a class=\"anchor\" id=\"model_structure\"></a>"
      ],
      "metadata": {
        "id": "VlQjef1nH39r"
      }
    },
    {
      "cell_type": "code",
      "source": [
        "device = torch.device(\"cuda:0\" if torch.cuda.is_available() else \"cpu\")\n",
        "device"
      ],
      "metadata": {
        "_kg_hide-input": true,
        "execution": {
          "iopub.status.busy": "2024-04-07T22:45:26.863257Z",
          "iopub.execute_input": "2024-04-07T22:45:26.863543Z",
          "iopub.status.idle": "2024-04-07T22:45:26.873149Z",
          "shell.execute_reply.started": "2024-04-07T22:45:26.863495Z",
          "shell.execute_reply": "2024-04-07T22:45:26.872298Z"
        },
        "trusted": true,
        "id": "s6mPC-cVH39r",
        "outputId": "0349d06a-e9b4-4fab-b9d1-f283f688fed5"
      },
      "execution_count": null,
      "outputs": [
        {
          "execution_count": 38,
          "output_type": "execute_result",
          "data": {
            "text/plain": "device(type='cpu')"
          },
          "metadata": {}
        }
      ]
    },
    {
      "cell_type": "markdown",
      "source": [
        "This model is referenced from kaggle:\n",
        "Fink, L. (2020). Breast Cancer [Kaggle notebook]. Kaggle.\n",
        "https://www.kaggle.com/code/allunia/breast-cancer"
      ],
      "metadata": {
        "id": "bWzOZQj7at2E"
      }
    },
    {
      "cell_type": "code",
      "source": [
        "model = torchvision.models.resnet18(pretrained=False)\n",
        "if run_training:\n",
        "    model.load_state_dict(torch.load(\"../input/pretrained-pytorch-models/resnet18-5c106cde.pth\"))\n",
        "num_features = model.fc.in_features\n",
        "print(num_features)\n",
        "\n",
        "model.fc = nn.Sequential(\n",
        "    nn.Linear(num_features, 512),\n",
        "    nn.ReLU(),\n",
        "    nn.BatchNorm1d(512),\n",
        "    nn.Dropout(0.5),\n",
        "\n",
        "    nn.Linear(512, 256),\n",
        "    nn.ReLU(),\n",
        "    nn.BatchNorm1d(256),\n",
        "    nn.Dropout(0.5),\n",
        "\n",
        "    nn.Linear(256, NUM_CLASSES))\n",
        "\n",
        "def init_weights(m):\n",
        "    if type(m) == nn.Linear:\n",
        "        torch.nn.init.xavier_uniform_(m.weight)\n",
        "        m.bias.data.fill_(0.01)\n",
        "\n",
        "model.apply(init_weights)\n",
        "model = model.to(device)"
      ],
      "metadata": {
        "execution": {
          "iopub.status.busy": "2024-04-07T22:45:26.876622Z",
          "iopub.execute_input": "2024-04-07T22:45:26.877091Z",
          "iopub.status.idle": "2024-04-07T22:45:27.152413Z",
          "shell.execute_reply.started": "2024-04-07T22:45:26.877034Z",
          "shell.execute_reply": "2024-04-07T22:45:27.15127Z"
        },
        "trusted": true,
        "id": "oZM9D45CH39r",
        "outputId": "83c1438b-2a98-4ec0-9547-6f32601824f7"
      },
      "execution_count": null,
      "outputs": [
        {
          "name": "stdout",
          "text": "512\n",
          "output_type": "stream"
        }
      ]
    },
    {
      "cell_type": "code",
      "source": [
        "NUM_CLASSES=2"
      ],
      "metadata": {
        "id": "pLPxmHc1KQ0-"
      },
      "execution_count": null,
      "outputs": []
    },
    {
      "cell_type": "markdown",
      "source": [
        "This Model is built by ourselves"
      ],
      "metadata": {
        "id": "ZKejDJsfaxJ0"
      }
    },
    {
      "cell_type": "code",
      "source": [
        "model2 = torchvision.models.resnet18(pretrained=False)\n",
        "if run_training:\n",
        "    model2.load_state_dict(torch.load(\"../input/pretrained-pytorch-models/resnet18-5c106cde.pth\"))\n",
        "num_features = model2.fc.in_features\n",
        "print(num_features)\n",
        "\n",
        "model2.fc = nn.Sequential(\n",
        "    nn.Linear(512, 240),\n",
        "    nn.ReLU(),\n",
        "    nn.BatchNorm1d(240),\n",
        "    nn.Dropout(0.6),\n",
        "\n",
        "    nn.Linear(240, 128),\n",
        "    nn.ReLU(),\n",
        "    nn.BatchNorm1d(128),\n",
        "    nn.Dropout(0.4),\n",
        "\n",
        "    nn.Linear(128, 3))\n",
        "\n",
        "def init_weights(m):\n",
        "    if type(m) == nn.Linear:\n",
        "        torch.nn.init.xavier_uniform_(m.weight)\n",
        "        m.bias.data.fill_(0.01)\n",
        "\n",
        "model2.apply(init_weights)\n",
        "model2 = model2.to(device)"
      ],
      "metadata": {
        "execution": {
          "iopub.status.busy": "2024-04-07T23:04:11.114067Z",
          "iopub.execute_input": "2024-04-07T23:04:11.11453Z",
          "iopub.status.idle": "2024-04-07T23:04:12.407701Z",
          "shell.execute_reply.started": "2024-04-07T23:04:11.114484Z",
          "shell.execute_reply": "2024-04-07T23:04:12.406932Z"
        },
        "trusted": true,
        "id": "6eWRalPtH39r"
      },
      "execution_count": null,
      "outputs": []
    },
    {
      "cell_type": "markdown",
      "source": [
        "This model is built by our group"
      ],
      "metadata": {
        "id": "5oWSfCdabAJk"
      }
    },
    {
      "cell_type": "code",
      "source": [
        "\n",
        "model3 = torchvision.models.resnet18(pretrained=False)\n",
        "if run_training:\n",
        "    model3.load_state_dict(torch.load(\"../input/pretrained-pytorch-models/resnet18-5c106cde.pth\"))\n",
        "num_features = model3.fc.in_features\n",
        "print(num_features)\n",
        "\n",
        "# Modify Fully Connected Layer\n",
        "model3.fc = nn.Sequential(\n",
        "    nn.Linear(num_features, 240),\n",
        "    nn.ReLU(),\n",
        "    nn.BatchNorm1d(240),\n",
        "    nn.Dropout(0.5),\n",
        "\n",
        "    # Add Pooling Layer\n",
        "    nn.AdaptiveAvgPool2d((1, 1)),\n",
        ")\n",
        "\n",
        "# Update num_features for the next layer\n",
        "num_features = 240\n",
        "\n",
        "# Add new Linear layer\n",
        "model3.fc_new = nn.Sequential(\n",
        "    nn.Linear(num_features, 128),\n",
        "    nn.ReLU(),\n",
        "    nn.BatchNorm1d(128),\n",
        "    nn.Dropout(0.5),\n",
        "\n",
        "    nn.Linear(128, NUM_CLASSES)\n",
        ")\n",
        "\n",
        "# Initialize Weights\n",
        "def init_weights(m):\n",
        "    if type(m) == nn.Linear:\n",
        "        torch.nn.init.xavier_uniform_(m.weight)\n",
        "        m.bias.data.fill_(0.01)\n",
        "\n",
        "model3.fc.apply(init_weights)\n",
        "model3.fc_new.apply(init_weights)\n",
        "\n",
        "# Combine the two parts\n",
        "model3 = nn.Sequential(\n",
        "    model3,\n",
        "  # Flatten the output before feeding into the fully connected layers\n",
        "    model3.fc_new\n",
        ")\n",
        "\n",
        "model3 = model3.to(device)"
      ],
      "metadata": {
        "execution": {
          "iopub.status.busy": "2024-04-07T23:04:31.286058Z",
          "iopub.execute_input": "2024-04-07T23:04:31.286523Z",
          "iopub.status.idle": "2024-04-07T23:04:31.618474Z",
          "shell.execute_reply.started": "2024-04-07T23:04:31.286476Z",
          "shell.execute_reply": "2024-04-07T23:04:31.617637Z"
        },
        "trusted": true,
        "id": "NCFFK48RH39r",
        "outputId": "7b066f94-5bd4-4aab-e57b-f75c3f1a5d3d"
      },
      "execution_count": null,
      "outputs": [
        {
          "name": "stdout",
          "text": "512\n",
          "output_type": "stream"
        }
      ]
    },
    {
      "cell_type": "code",
      "source": [
        "weights = compute_class_weight(y=train_df.target.values, class_weight=\"balanced\", classes=train_df.target.unique())\n",
        "class_weights = torch.FloatTensor(weights)\n",
        "if device.type==\"cuda\":\n",
        "    class_weights = class_weights.cuda()\n",
        "print(class_weights)"
      ],
      "metadata": {
        "execution": {
          "iopub.status.busy": "2024-04-07T22:45:27.155974Z",
          "iopub.execute_input": "2024-04-07T22:45:27.156278Z",
          "iopub.status.idle": "2024-04-07T22:45:27.265222Z",
          "shell.execute_reply.started": "2024-04-07T22:45:27.156229Z",
          "shell.execute_reply": "2024-04-07T22:45:27.264053Z"
        },
        "trusted": true,
        "id": "BxkKSWa4H39s",
        "outputId": "b74d0516-7e4c-4768-f799-9514af656e42"
      },
      "execution_count": null,
      "outputs": [
        {
          "name": "stdout",
          "text": "tensor([0.6967, 1.7710])\n",
          "output_type": "stream"
        }
      ]
    },
    {
      "cell_type": "code",
      "source": [
        "train_df.target.unique()"
      ],
      "metadata": {
        "execution": {
          "iopub.status.busy": "2024-04-07T22:45:27.26659Z",
          "iopub.execute_input": "2024-04-07T22:45:27.267013Z",
          "iopub.status.idle": "2024-04-07T22:45:27.284902Z",
          "shell.execute_reply.started": "2024-04-07T22:45:27.266939Z",
          "shell.execute_reply": "2024-04-07T22:45:27.283954Z"
        },
        "trusted": true,
        "id": "pjS-R5NaH39s",
        "outputId": "d4cb1c68-91cb-44f3-d5b2-7baa938ec1e2"
      },
      "execution_count": null,
      "outputs": [
        {
          "execution_count": 41,
          "output_type": "execute_result",
          "data": {
            "text/plain": "array(['0', '1'], dtype=object)"
          },
          "metadata": {}
        }
      ]
    },
    {
      "cell_type": "markdown",
      "source": [
        "You can see that class 1 (positive cancer) has a higher weight."
      ],
      "metadata": {
        "id": "JMkIhLceH39s"
      }
    },
    {
      "cell_type": "code",
      "source": [
        "criterion = nn.CrossEntropyLoss(weight=class_weights)"
      ],
      "metadata": {
        "execution": {
          "iopub.status.busy": "2024-04-07T22:45:27.286597Z",
          "iopub.execute_input": "2024-04-07T22:45:27.286933Z",
          "iopub.status.idle": "2024-04-07T22:45:27.291625Z",
          "shell.execute_reply.started": "2024-04-07T22:45:27.286873Z",
          "shell.execute_reply": "2024-04-07T22:45:27.290753Z"
        },
        "trusted": true,
        "id": "v4MMvbhAH39s"
      },
      "execution_count": null,
      "outputs": []
    },
    {
      "cell_type": "code",
      "source": [
        "def f1_score(preds, targets):\n",
        "\n",
        "    tp = (preds*targets).sum().to(torch.float32)\n",
        "    fp = ((1-targets)*preds).sum().to(torch.float32)\n",
        "    fn = (targets*(1-preds)).sum().to(torch.float32)\n",
        "\n",
        "    epsilon = 1e-7\n",
        "    precision = tp / (tp + fp + epsilon)\n",
        "    recall = tp / (tp + fn + epsilon)\n",
        "\n",
        "    f1_score = 2 * precision * recall/(precision + recall + epsilon)\n",
        "    return f1_score"
      ],
      "metadata": {
        "_kg_hide-input": false,
        "execution": {
          "iopub.status.busy": "2024-04-07T22:45:27.29324Z",
          "iopub.execute_input": "2024-04-07T22:45:27.293516Z",
          "iopub.status.idle": "2024-04-07T22:45:27.302291Z",
          "shell.execute_reply.started": "2024-04-07T22:45:27.29347Z",
          "shell.execute_reply": "2024-04-07T22:45:27.301377Z"
        },
        "trusted": true,
        "id": "dfurQQkhH39s"
      },
      "execution_count": null,
      "outputs": []
    },
    {
      "cell_type": "markdown",
      "source": [
        "This code block is referenced from kaggle with some modifications to hyperparameters:\n",
        "\n",
        "Fink, L. (2020). Breast Cancer [Kaggle notebook]. Kaggle.\n",
        "https://www.kaggle.com/code/allunia/breast-cancer"
      ],
      "metadata": {
        "id": "NH1VywtwbaWT"
      }
    },
    {
      "cell_type": "code",
      "source": [
        "def train_loop(model, criterion, optimizer, lr_find=False, scheduler=None, num_epochs = 3, lam=0.0):\n",
        "    since = time.time()\n",
        "    if lr_find:\n",
        "        phases = [\"train\"]\n",
        "    else:\n",
        "        phases = [\"train\", \"val\", \"test\"]\n",
        "\n",
        "    best_model_wts = copy.deepcopy(model.state_dict())\n",
        "    best_acc = 0.0\n",
        "\n",
        "    loss_dict = {\"train\": [], \"val\": [], \"test\": []}\n",
        "    lam_tensor = torch.tensor(lam, device=device)\n",
        "\n",
        "    running_loss_dict = {\"train\": [], \"val\": [], \"test\": []}\n",
        "\n",
        "    lr_find_loss = []\n",
        "    lr_find_lr = []\n",
        "    smoothing = 0.2\n",
        "\n",
        "    for epoch in range(num_epochs):\n",
        "        print('Epoch {}/{}'.format(epoch, num_epochs - 1))\n",
        "        print('-' * 10)\n",
        "\n",
        "        for phase in phases:\n",
        "            if phase == \"train\":\n",
        "                model.train()\n",
        "            else:\n",
        "                model.eval()\n",
        "\n",
        "            running_loss = 0.0\n",
        "            running_corrects = 0\n",
        "\n",
        "            tk0 = tqdm(dataloaders[phase], total=int(len(dataloaders[phase])))\n",
        "\n",
        "            counter = 0\n",
        "            for bi, d in enumerate(tk0):\n",
        "                inputs = d[\"image\"]\n",
        "                labels = d[\"label\"]\n",
        "                inputs = inputs.to(device, dtype=torch.float)\n",
        "                labels = labels.to(device, dtype=torch.long)\n",
        "\n",
        "                # zero the parameter gradients\n",
        "                optimizer.zero_grad()\n",
        "\n",
        "                # forward\n",
        "                # track history if only in train\n",
        "\n",
        "                with torch.set_grad_enabled(phase == 'train'):\n",
        "                    outputs = model(inputs)\n",
        "                    _, preds = torch.max(outputs, 1)\n",
        "                    loss = criterion(outputs, labels)\n",
        "\n",
        "                    # backward + optimize only if in training phase\n",
        "                    if phase == 'train':\n",
        "                        loss.backward()\n",
        "\n",
        "                        #l2_reg = torch.tensor(0., device=device)\n",
        "                        #for param in model.parameters():\n",
        "                            #l2_reg = lam_tensor * torch.norm(param)\n",
        "\n",
        "                        #loss += l2_reg\n",
        "\n",
        "                        optimizer.step()\n",
        "                        # cyclical lr schedule is invoked after each batch\n",
        "                        if scheduler is not None:\n",
        "                            scheduler.step()\n",
        "                            if lr_find:\n",
        "                                lr_step = optimizer.state_dict()[\"param_groups\"][0][\"lr\"]\n",
        "                                lr_find_lr.append(lr_step)\n",
        "                                if counter==0:\n",
        "                                    lr_find_loss.append(loss.item())\n",
        "                                else:\n",
        "                                    smoothed_loss = smoothing  * loss.item() + (1 - smoothing) * lr_find_loss[-1]\n",
        "                                    lr_find_loss.append(smoothed_loss)\n",
        "\n",
        "                # statistics\n",
        "                running_loss += loss.item() * inputs.size(0)\n",
        "                running_corrects += torch.sum(preds == labels.data)\n",
        "\n",
        "                counter += 1\n",
        "\n",
        "\n",
        "                tk0.set_postfix({'loss': running_loss / (counter * dataloaders[phase].batch_size),\n",
        "                                 'accuracy': running_corrects.double() / (counter * dataloaders[phase].batch_size)})\n",
        "                running_loss_dict[phase].append(running_loss / (counter * dataloaders[phase].batch_size))\n",
        "\n",
        "            epoch_loss = running_loss / dataset_sizes[phase]\n",
        "            loss_dict[phase].append(epoch_loss)\n",
        "            epoch_acc = running_corrects.double() / dataset_sizes[phase]\n",
        "            print('{} Loss: {:.4f} Acc: {:.4f}'.format(\n",
        "                phase, epoch_loss, epoch_acc))\n",
        "\n",
        "            # deep copy the model\n",
        "            if phase == 'val' and epoch_acc > best_acc:\n",
        "                best_acc = epoch_acc\n",
        "                best_model_wts = copy.deepcopy(model.state_dict())\n",
        "        print()\n",
        "\n",
        "    time_elapsed = time.time() - since\n",
        "    print('Training complete in {:.0f}m {:.0f}s'.format(\n",
        "    time_elapsed // 60, time_elapsed % 60))\n",
        "    print('Best val Acc: {:4f}'.format(best_acc))\n",
        "\n",
        "    # load best model weights\n",
        "    model.load_state_dict(best_model_wts)\n",
        "    results = {\"model\": model,\n",
        "               \"loss_dict\": loss_dict,\n",
        "               \"running_loss_dict\": running_loss_dict,\n",
        "               \"lr_find\": {\"lr\": lr_find_lr, \"loss\": lr_find_loss}}\n",
        "    return results"
      ],
      "metadata": {
        "_kg_hide-input": true,
        "execution": {
          "iopub.status.busy": "2024-04-07T22:45:27.304244Z",
          "iopub.execute_input": "2024-04-07T22:45:27.304527Z",
          "iopub.status.idle": "2024-04-07T22:45:27.331754Z",
          "shell.execute_reply.started": "2024-04-07T22:45:27.304484Z",
          "shell.execute_reply": "2024-04-07T22:45:27.330628Z"
        },
        "trusted": true,
        "id": "Q5Ih68goH39t"
      },
      "execution_count": null,
      "outputs": []
    },
    {
      "cell_type": "markdown",
      "source": [
        "## Searching for an optimal cyclical learning rate <a class=\"anchor\" id=\"lr_cycle_optima\"></a>\n",
        "\n",
        "The learning rate is one of the most important hyperparameters for tuning neural networks. A rate that is too high will lead to jumps to higher values in the training loss during optimization. If it's too small the learning process is too slow and will probably stop too early in the case we have defined a minimum required loss change. Take a look at the paper [Cyclical Learning Rates for Training Neural Networks](https://arxiv.org/abs/1506.01186)."
      ],
      "metadata": {
        "id": "Gt3qA71LH39t"
      }
    },
    {
      "cell_type": "markdown",
      "source": [
        "This code block is referenced from kaggle :\n",
        "\n",
        "Fink, L. (2020). Breast Cancer [Kaggle notebook]. Kaggle.\n",
        "https://www.kaggle.com/code/allunia/breast-cancer"
      ],
      "metadata": {
        "id": "85aPUGLLbm_b"
      }
    },
    {
      "cell_type": "code",
      "source": [],
      "metadata": {
        "id": "t9svFEg8bT0D"
      },
      "execution_count": null,
      "outputs": []
    },
    {
      "cell_type": "code",
      "source": [
        "start_lr = 1e-6\n",
        "end_lr = 0.1"
      ],
      "metadata": {
        "execution": {
          "iopub.status.busy": "2024-04-07T22:45:27.333313Z",
          "iopub.execute_input": "2024-04-07T22:45:27.333637Z",
          "iopub.status.idle": "2024-04-07T22:45:27.344241Z",
          "shell.execute_reply.started": "2024-04-07T22:45:27.333577Z",
          "shell.execute_reply": "2024-04-07T22:45:27.343113Z"
        },
        "trusted": true,
        "id": "TyErqn8XH39t"
      },
      "execution_count": null,
      "outputs": []
    },
    {
      "cell_type": "code",
      "source": [
        "def get_lr_search_scheduler(optimizer, min_lr, max_lr, max_iterations):\n",
        "    # max_iterations should be the number of steps within num_epochs_*epoch_iterations\n",
        "    # this way the learning rate increases linearily within the period num_epochs*epoch_iterations\n",
        "    scheduler = torch.optim.lr_scheduler.CyclicLR(optimizer=optimizer,\n",
        "                                               base_lr=min_lr,\n",
        "                                               max_lr=max_lr,\n",
        "                                               step_size_up=max_iterations,\n",
        "                                               step_size_down=max_iterations,\n",
        "                                               mode=\"triangular\")\n",
        "\n",
        "    return scheduler\n",
        "\n",
        "def get_scheduler(optimiser, min_lr, max_lr, stepsize):\n",
        "    # suggested_stepsize = 2*num_iterations_within_epoch\n",
        "    stepsize_up = np.int(stepsize/2)\n",
        "    scheduler = torch.optim.lr_scheduler.CyclicLR(optimizer=optimiser,\n",
        "                                               base_lr=min_lr,\n",
        "                                               max_lr=max_lr,\n",
        "                                               step_size_up=stepsize_up,\n",
        "                                               step_size_down=stepsize_up,\n",
        "                                               mode=\"triangular\")\n",
        "    return scheduler"
      ],
      "metadata": {
        "_kg_hide-input": true,
        "execution": {
          "iopub.status.busy": "2024-04-07T22:45:27.346164Z",
          "iopub.execute_input": "2024-04-07T22:45:27.34669Z",
          "iopub.status.idle": "2024-04-07T22:45:27.356777Z",
          "shell.execute_reply.started": "2024-04-07T22:45:27.346613Z",
          "shell.execute_reply": "2024-04-07T22:45:27.355416Z"
        },
        "trusted": true,
        "id": "a8RXtD7WH39t"
      },
      "execution_count": null,
      "outputs": []
    },
    {
      "cell_type": "code",
      "source": [
        "import math\n",
        "\n",
        "if find_learning_rate:\n",
        "    lr_find_epochs=1\n",
        "    optimizer = optim.SGD(model.fc.parameters(), start_lr)\n",
        "    scheduler = get_lr_search_scheduler(optimizer, start_lr, end_lr, lr_find_epochs*len(train_dataloader))\n",
        "    results = train_loop(model2, criterion, optimizer, lr_find=True, scheduler=scheduler, num_epochs=lr_find_epochs)\n",
        "    lr_find_lr, lr_find_loss = results[\"lr_find\"][\"lr\"], results[\"lr_find\"][\"loss\"]\n",
        "\n",
        "    find_lr_df = pd.DataFrame(lr_find_loss, columns=[\"smoothed loss\"])\n",
        "    find_lr_df.loc[:, \"lr\"] = lr_find_lr\n",
        "    find_lr_df.to_csv(\"learning_rate_search.csv\", index=False)\n",
        "else:\n",
        "    find_lr_df = pd.read_csv(MODEL_PATH + \"learning_rate_search.csv\")"
      ],
      "metadata": {
        "execution": {
          "iopub.status.busy": "2024-04-07T23:05:06.000422Z",
          "iopub.execute_input": "2024-04-07T23:05:06.001061Z",
          "iopub.status.idle": "2024-04-07T23:05:06.016429Z",
          "shell.execute_reply.started": "2024-04-07T23:05:06.000993Z",
          "shell.execute_reply": "2024-04-07T23:05:06.015345Z"
        },
        "trusted": true,
        "id": "GMDwiR6CH39t"
      },
      "execution_count": null,
      "outputs": []
    },
    {
      "cell_type": "markdown",
      "source": [
        "## Performing the training or loading results <a class=\"anchor\" id=\"run\"></a>"
      ],
      "metadata": {
        "id": "ZGY1CaLsH39u"
      }
    },
    {
      "cell_type": "code",
      "source": [
        "device=torch.device()"
      ],
      "metadata": {
        "id": "PtZMNKgiH39u"
      },
      "execution_count": null,
      "outputs": []
    },
    {
      "cell_type": "markdown",
      "source": [
        "This code block is referenced from kaggle with some modifications to hyperparameters:\n",
        "\n",
        "Fink, L. (2020). Breast Cancer [Kaggle notebook]. Kaggle.\n",
        "https://www.kaggle.com/code/allunia/breast-cancer"
      ],
      "metadata": {
        "id": "oWZQTpOTbuOq"
      }
    },
    {
      "cell_type": "code",
      "source": [
        "print(run_training)\n",
        "print(device)\n",
        "run_training=True\n",
        "if run_training:\n",
        "    NUM_EPOCHS = 2\n",
        "    optimizer = optim.SGD(model.fc.parameters(), lr=0.01)\n",
        "    scheduler = get_scheduler(optimizer, start_lr, end_lr, 2*NUM_EPOCHS)\n",
        "    results = train_loop(model, criterion, optimizer, scheduler=scheduler, num_epochs = NUM_EPOCHS)\n",
        "    model, loss_dict, running_loss_dict = results[\"model\"], results[\"loss_dict\"], results[\"running_loss_dict\"]\n",
        "\n",
        "    if device == \"cpu\":\n",
        "        OUTPUT_PATH += \".pth\"\n",
        "    else:\n",
        "        OUTPUT_PATH += \"_cuda.pth\"\n",
        "\n",
        "    torch.save(model.state_dict(), OUTPUT_PATH)\n",
        "\n",
        "    losses_df = pd.DataFrame(loss_dict[\"train\"],columns=[\"train\"])\n",
        "    losses_df.loc[:, \"val\"] = loss_dict[\"val\"]\n",
        "    losses_df.loc[:, \"test\"] = loss_dict[\"test\"]\n",
        "    losses_df.to_csv(\"losses_breastcancer.csv\", index=False)\n",
        "\n",
        "    running_losses_df = pd.DataFrame(running_loss_dict[\"train\"], columns=[\"train\"])\n",
        "    running_losses_df.loc[0:len(running_loss_dict[\"val\"])-1, \"val\"] = running_loss_dict[\"val\"]\n",
        "    running_losses_df.loc[0:len(running_loss_dict[\"test\"])-1, \"test\"] = running_loss_dict[\"test\"]\n",
        "    running_losses_df.to_csv(\"running_losses_breastcancer.csv\", index=False)\n",
        "else:\n",
        "    if device == \"cpu\":\n",
        "        load_path = MODEL_PATH + \".pth\"\n",
        "    else:\n",
        "        load_path = MODEL_PATH + \"_cuda.pth\"\n",
        "    model.load_state_dict(torch.load(load_path, map_location='cpu'))\n",
        "    model.eval()\n",
        "\n",
        "    losses_df = pd.read_csv(LOSSES_PATH + \"losses_breastcancer.csv\")\n",
        "    running_losses_df = pd.read_csv(LOSSES_PATH + \"running_losses_breastcancer.csv\")"
      ],
      "metadata": {
        "_kg_hide-input": true,
        "execution": {
          "iopub.status.busy": "2024-04-07T23:08:05.170949Z",
          "iopub.execute_input": "2024-04-07T23:08:05.171287Z"
        },
        "trusted": true,
        "id": "qc7S2BEKH39u",
        "outputId": "745b1829-5120-486e-ae50-b33aff345d77",
        "colab": {
          "referenced_widgets": [
            "1f93fbb801d345bcae04a0a75595b4b2"
          ]
        }
      },
      "execution_count": null,
      "outputs": [
        {
          "name": "stdout",
          "text": "True\ncpu\nEpoch 0/1\n----------\n",
          "output_type": "stream"
        },
        {
          "output_type": "display_data",
          "data": {
            "text/plain": "HBox(children=(IntProgress(value=0, max=6127), HTML(value='')))",
            "application/vnd.jupyter.widget-view+json": {
              "version_major": 2,
              "version_minor": 0,
              "model_id": "1f93fbb801d345bcae04a0a75595b4b2"
            }
          },
          "metadata": {}
        }
      ]
    },
    {
      "cell_type": "markdown",
      "source": [
        "This code block is referenced from kaggle with some modifications to hyperparameters:\n",
        "\n",
        "Fink, L. (2020). Breast Cancer [Kaggle notebook]. Kaggle.\n",
        "https://www.kaggle.com/code/allunia/breast-cancer"
      ],
      "metadata": {
        "id": "GV971EQVby7L"
      }
    },
    {
      "cell_type": "code",
      "source": [
        "def sigmoid(x):\n",
        "    return 1./(1+np.exp(-x))\n",
        "\n",
        "def evaluate_model(model, predictions_df, key):\n",
        "    was_training = model.training\n",
        "    model.eval()\n",
        "\n",
        "    with torch.no_grad():\n",
        "        for i, data in enumerate(dataloaders[key]):\n",
        "            inputs = data[\"image\"].to(device)\n",
        "            labels = data[\"label\"].to(device)\n",
        "\n",
        "            outputs = model(inputs)\n",
        "            _, preds = torch.max(outputs, 1)\n",
        "\n",
        "            proba = outputs.cpu().numpy().astype(np.float)\n",
        "            predictions_df.loc[i*BATCH_SIZE:(i+1)*BATCH_SIZE-1, \"proba\"] = sigmoid(proba[:, 1])\n",
        "            predictions_df.loc[i*BATCH_SIZE:(i+1)*BATCH_SIZE-1, \"true\"] = data[\"label\"].numpy().astype(np.int)\n",
        "            predictions_df.loc[i*BATCH_SIZE:(i+1)*BATCH_SIZE-1, \"predicted\"] = preds.cpu().numpy().astype(np.int)\n",
        "            predictions_df.loc[i*BATCH_SIZE:(i+1)*BATCH_SIZE-1, \"x\"] = data[\"x\"].numpy()\n",
        "            predictions_df.loc[i*BATCH_SIZE:(i+1)*BATCH_SIZE-1, \"y\"] = data[\"y\"].numpy()\n",
        "            predictions_df.loc[i*BATCH_SIZE:(i+1)*BATCH_SIZE-1, \"patient_id\"] = data[\"patient_id\"]\n",
        "\n",
        "    predictions_df = predictions_df.dropna()\n",
        "    return predictions_df"
      ],
      "metadata": {
        "_kg_hide-input": true,
        "execution": {
          "iopub.status.busy": "2024-04-07T22:45:32.529912Z",
          "iopub.execute_input": "2024-04-07T22:45:32.530301Z",
          "iopub.status.idle": "2024-04-07T22:45:32.546845Z",
          "shell.execute_reply.started": "2024-04-07T22:45:32.53024Z",
          "shell.execute_reply": "2024-04-07T22:45:32.54498Z"
        },
        "trusted": true,
        "id": "2yZQU33UH39v"
      },
      "execution_count": null,
      "outputs": []
    },
    {
      "cell_type": "code",
      "source": [
        "if run_training:\n",
        "    val_predictions = pd.DataFrame(index = np.arange(0, dataset_sizes[\"val\"]), columns = [\"true\", \"predicted\", \"proba\"])\n",
        "    test_predictions = pd.DataFrame(index = np.arange(0, dataset_sizes[\"test\"]), columns = [\"true\", \"predicted\", \"proba\"])\n",
        "\n",
        "    val_predictions = evaluate_model(model, val_predictions, \"val\")\n",
        "    test_predictions = evaluate_model(model, test_predictions, \"test\")\n",
        "\n",
        "    val_predictions.to_csv(\"val_predictions.csv\", index=False)\n",
        "    test_predictions.to_csv(\"test_predictions.csv\", index=False)\n",
        "\n",
        "else:\n",
        "\n",
        "    val_predictions = pd.read_csv(LOSSES_PATH + \"val_predictions.csv\")\n",
        "    test_predictions = pd.read_csv(LOSSES_PATH + \"test_predictions.csv\")\n",
        "\n",
        "    val_predictions.patient_id = val_predictions.patient_id.astype(np.str)"
      ],
      "metadata": {
        "_kg_hide-input": true,
        "execution": {
          "iopub.status.busy": "2024-04-07T22:45:32.549179Z",
          "iopub.execute_input": "2024-04-07T22:45:32.54982Z",
          "iopub.status.idle": "2024-04-07T22:45:32.709637Z",
          "shell.execute_reply.started": "2024-04-07T22:45:32.549706Z",
          "shell.execute_reply": "2024-04-07T22:45:32.708812Z"
        },
        "trusted": true,
        "id": "3hW5Lo6jH39v"
      },
      "execution_count": null,
      "outputs": []
    },
    {
      "cell_type": "code",
      "source": [
        "from sklearn.metrics import confusion_matrix\n",
        "\n",
        "def get_confusion_matrix(y_true, y_pred):\n",
        "    transdict = {1: \"cancer\", 0: \"no cancer\"}\n",
        "    y_t = np.array([transdict[x] for x in y_true])\n",
        "    y_p = np.array([transdict[x] for x in y_pred])\n",
        "\n",
        "    labels = [\"no cancer\", \"cancer\"]\n",
        "    index_labels = [\"actual no cancer\", \"actual cancer\"]\n",
        "    col_labels = [\"predicted no cancer\", \"predicted cancer\"]\n",
        "    confusion = confusion_matrix(y_t, y_p, labels=labels)\n",
        "    confusion_df = pd.DataFrame(confusion, index=index_labels, columns=col_labels)\n",
        "    for n in range(2):\n",
        "        confusion_df.iloc[n] = confusion_df.iloc[n] / confusion_df.sum(axis=1).iloc[n]\n",
        "    return confusion_df"
      ],
      "metadata": {
        "_kg_hide-input": true,
        "execution": {
          "iopub.status.busy": "2024-04-07T22:46:12.89544Z",
          "iopub.execute_input": "2024-04-07T22:46:12.895841Z",
          "iopub.status.idle": "2024-04-07T22:46:12.905109Z",
          "shell.execute_reply.started": "2024-04-07T22:46:12.895752Z",
          "shell.execute_reply": "2024-04-07T22:46:12.903821Z"
        },
        "trusted": true,
        "id": "CHnaOGpwH39v"
      },
      "execution_count": null,
      "outputs": []
    },
    {
      "cell_type": "code",
      "source": [
        "get_confusion_matrix(test_predictions[\"true\"],test_predictions[\"predicted\"])"
      ],
      "metadata": {
        "execution": {
          "iopub.status.busy": "2024-04-07T22:57:16.731948Z",
          "iopub.execute_input": "2024-04-07T22:57:16.732333Z",
          "iopub.status.idle": "2024-04-07T22:57:16.842582Z",
          "shell.execute_reply.started": "2024-04-07T22:57:16.732278Z",
          "shell.execute_reply": "2024-04-07T22:57:16.841456Z"
        },
        "trusted": true,
        "id": "EvG01SbZH39w",
        "outputId": "5fdf717f-c95b-4081-990f-9f318b9ee298"
      },
      "execution_count": null,
      "outputs": [
        {
          "execution_count": 60,
          "output_type": "execute_result",
          "data": {
            "text/plain": "                  predicted no cancer  predicted cancer\nactual no cancer             0.854794          0.145206\nactual cancer                0.213635          0.786365",
            "text/html": "<div>\n<style scoped>\n    .dataframe tbody tr th:only-of-type {\n        vertical-align: middle;\n    }\n\n    .dataframe tbody tr th {\n        vertical-align: top;\n    }\n\n    .dataframe thead th {\n        text-align: right;\n    }\n</style>\n<table border=\"1\" class=\"dataframe\">\n  <thead>\n    <tr style=\"text-align: right;\">\n      <th></th>\n      <th>predicted no cancer</th>\n      <th>predicted cancer</th>\n    </tr>\n  </thead>\n  <tbody>\n    <tr>\n      <td>actual no cancer</td>\n      <td>0.854794</td>\n      <td>0.145206</td>\n    </tr>\n    <tr>\n      <td>actual cancer</td>\n      <td>0.213635</td>\n      <td>0.786365</td>\n    </tr>\n  </tbody>\n</table>\n</div>"
          },
          "metadata": {}
        }
      ]
    },
    {
      "cell_type": "markdown",
      "source": [
        "# Conclusion <a class=\"anchor\" id=\"conclusion\"></a>"
      ],
      "metadata": {
        "id": "ZBxW3zEnH39w"
      }
    },
    {
      "cell_type": "code",
      "source": [],
      "metadata": {
        "trusted": true,
        "id": "Bfm2hMV-H39w"
      },
      "execution_count": null,
      "outputs": []
    }
  ]
}